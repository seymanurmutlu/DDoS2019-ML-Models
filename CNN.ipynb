{
  "nbformat": 4,
  "nbformat_minor": 0,
  "metadata": {
    "colab": {
      "name": "CNN.ipynb",
      "provenance": [],
      "collapsed_sections": []
    },
    "kernelspec": {
      "name": "python3",
      "display_name": "Python 3"
    },
    "language_info": {
      "name": "python"
    }
  },
  "cells": [
    {
      "cell_type": "code",
      "metadata": {
        "id": "bsARToHaknn9"
      },
      "source": [
        ""
      ],
      "execution_count": null,
      "outputs": []
    },
    {
      "cell_type": "code",
      "metadata": {
        "colab": {
          "base_uri": "https://localhost:8080/"
        },
        "id": "mQcX7DVCRLrz",
        "outputId": "48b2dec6-82db-447b-f35f-888663780030"
      },
      "source": [
        "from google.colab import drive\n",
        "drive.mount('/content/drive')"
      ],
      "execution_count": 1,
      "outputs": [
        {
          "output_type": "stream",
          "text": [
            "Drive already mounted at /content/drive; to attempt to forcibly remount, call drive.mount(\"/content/drive\", force_remount=True).\n"
          ],
          "name": "stdout"
        }
      ]
    },
    {
      "cell_type": "code",
      "metadata": {
        "id": "oLPEVA5TVN_y"
      },
      "source": [
        "import pandas as pd"
      ],
      "execution_count": 2,
      "outputs": []
    },
    {
      "cell_type": "code",
      "metadata": {
        "id": "6ZxLynTGfN0L"
      },
      "source": [
        "from sklearn.preprocessing import LabelEncoder\n",
        "from sklearn.preprocessing import StandardScaler\n",
        "from keras.models import Sequential\n",
        "from keras.layers import Dense, Dropout, Activation, Lambda, Flatten\n",
        "from keras.layers import Convolution1D, Dense, Dropout, MaxPooling1D, LSTM\n",
        "from sklearn.model_selection import train_test_split\n",
        "from sklearn.preprocessing import Normalizer\n",
        "from keras import callbacks\n",
        "from keras.callbacks import CSVLogger\n",
        "from keras.utils import to_categorical\n",
        "from keras.callbacks import ModelCheckpoint, EarlyStopping, ReduceLROnPlateau, CSVLogger\n",
        "import numpy as np\n",
        "np.random.seed(0)"
      ],
      "execution_count": 3,
      "outputs": []
    },
    {
      "cell_type": "code",
      "metadata": {
        "id": "F7ulXF4Ofr_U"
      },
      "source": [
        "x = pd.read_csv(\"/content/drive/MyDrive/Colab Notebooks/clean_5.csv\")\n",
        "x=x.dropna()"
      ],
      "execution_count": 4,
      "outputs": []
    },
    {
      "cell_type": "code",
      "metadata": {
        "id": "8ZmrczmUpE8f"
      },
      "source": [
        "import pandas as pd\n",
        "def clean_dataset(df):\n",
        "    columns = df.columns\n",
        "    assert isinstance(df, pd.DataFrame), \"df needs to be a pd.DataFrame\"\n",
        "    df.dropna(inplace=True)\n",
        "    indices_to_keep = ~df.isin([np.nan, np.inf, -np.inf]).any(1)\n",
        "    return df[indices_to_keep].astype(np.float64)"
      ],
      "execution_count": 5,
      "outputs": []
    },
    {
      "cell_type": "code",
      "metadata": {
        "id": "jz1I-sfZgqL3"
      },
      "source": [
        "scaler = StandardScaler()"
      ],
      "execution_count": 6,
      "outputs": []
    },
    {
      "cell_type": "code",
      "metadata": {
        "colab": {
          "base_uri": "https://localhost:8080/"
        },
        "id": "TJbFpIPAibig",
        "outputId": "606d008c-beab-4197-da8a-dcf70be1f876"
      },
      "source": [
        "import netaddr \n",
        "ips = x[' Destination IP'].unique()\n",
        "l = len(ips)\n",
        "print('strating loop, length is',l)\n",
        "for i in range(l):\n",
        "  x[' Destination IP'] = x[' Destination IP'].replace(ips[i], int(netaddr.IPAddress(ips[i])))\n",
        "print('loop over')"
      ],
      "execution_count": 7,
      "outputs": [
        {
          "output_type": "stream",
          "text": [
            "strating loop, length is 446\n",
            "loop over\n"
          ],
          "name": "stdout"
        }
      ]
    },
    {
      "cell_type": "code",
      "metadata": {
        "id": "6zukXwpsli31"
      },
      "source": [
        "x = clean_dataset(x)"
      ],
      "execution_count": 8,
      "outputs": []
    },
    {
      "cell_type": "code",
      "metadata": {
        "id": "d6OujgYGgred"
      },
      "source": [
        "from sklearn import preprocessing\n",
        "\n",
        "t = x.values #returns a numpy array\n",
        "min_max_scaler = preprocessing.MinMaxScaler()\n",
        "x_scaled = min_max_scaler.fit_transform(t)\n",
        "normalized_df = pd.DataFrame(x_scaled)"
      ],
      "execution_count": 9,
      "outputs": []
    },
    {
      "cell_type": "code",
      "metadata": {
        "id": "E3iD9OkGloGA"
      },
      "source": [
        "y=x['Label']\n",
        "x=x.drop(['Label'], axis=1)"
      ],
      "execution_count": 10,
      "outputs": []
    },
    {
      "cell_type": "code",
      "metadata": {
        "colab": {
          "base_uri": "https://localhost:8080/"
        },
        "id": "OlDy8Yu2lyeu",
        "outputId": "79d7f79f-924e-4b60-f097-71f96285b18a"
      },
      "source": [
        "y.nunique()"
      ],
      "execution_count": 11,
      "outputs": [
        {
          "output_type": "execute_result",
          "data": {
            "text/plain": [
              "13"
            ]
          },
          "metadata": {
            "tags": []
          },
          "execution_count": 11
        }
      ]
    },
    {
      "cell_type": "code",
      "metadata": {
        "colab": {
          "base_uri": "https://localhost:8080/",
          "height": 226
        },
        "id": "8q6okLeim70y",
        "outputId": "bc9f5499-48b1-4388-cbe2-e8fe81992bfb"
      },
      "source": [
        "y = pd.get_dummies(y,prefix=['Label'])\n",
        "y.head()"
      ],
      "execution_count": 12,
      "outputs": [
        {
          "output_type": "execute_result",
          "data": {
            "text/html": [
              "<div>\n",
              "<style scoped>\n",
              "    .dataframe tbody tr th:only-of-type {\n",
              "        vertical-align: middle;\n",
              "    }\n",
              "\n",
              "    .dataframe tbody tr th {\n",
              "        vertical-align: top;\n",
              "    }\n",
              "\n",
              "    .dataframe thead th {\n",
              "        text-align: right;\n",
              "    }\n",
              "</style>\n",
              "<table border=\"1\" class=\"dataframe\">\n",
              "  <thead>\n",
              "    <tr style=\"text-align: right;\">\n",
              "      <th></th>\n",
              "      <th>['Label']_0.0</th>\n",
              "      <th>['Label']_1.0</th>\n",
              "      <th>['Label']_2.0</th>\n",
              "      <th>['Label']_3.0</th>\n",
              "      <th>['Label']_4.0</th>\n",
              "      <th>['Label']_5.0</th>\n",
              "      <th>['Label']_6.0</th>\n",
              "      <th>['Label']_7.0</th>\n",
              "      <th>['Label']_8.0</th>\n",
              "      <th>['Label']_9.0</th>\n",
              "      <th>['Label']_10.0</th>\n",
              "      <th>['Label']_11.0</th>\n",
              "      <th>['Label']_12.0</th>\n",
              "    </tr>\n",
              "  </thead>\n",
              "  <tbody>\n",
              "    <tr>\n",
              "      <th>0</th>\n",
              "      <td>0</td>\n",
              "      <td>0</td>\n",
              "      <td>0</td>\n",
              "      <td>0</td>\n",
              "      <td>0</td>\n",
              "      <td>0</td>\n",
              "      <td>0</td>\n",
              "      <td>1</td>\n",
              "      <td>0</td>\n",
              "      <td>0</td>\n",
              "      <td>0</td>\n",
              "      <td>0</td>\n",
              "      <td>0</td>\n",
              "    </tr>\n",
              "    <tr>\n",
              "      <th>1</th>\n",
              "      <td>0</td>\n",
              "      <td>0</td>\n",
              "      <td>0</td>\n",
              "      <td>0</td>\n",
              "      <td>0</td>\n",
              "      <td>0</td>\n",
              "      <td>0</td>\n",
              "      <td>1</td>\n",
              "      <td>0</td>\n",
              "      <td>0</td>\n",
              "      <td>0</td>\n",
              "      <td>0</td>\n",
              "      <td>0</td>\n",
              "    </tr>\n",
              "    <tr>\n",
              "      <th>2</th>\n",
              "      <td>0</td>\n",
              "      <td>0</td>\n",
              "      <td>0</td>\n",
              "      <td>0</td>\n",
              "      <td>0</td>\n",
              "      <td>0</td>\n",
              "      <td>0</td>\n",
              "      <td>1</td>\n",
              "      <td>0</td>\n",
              "      <td>0</td>\n",
              "      <td>0</td>\n",
              "      <td>0</td>\n",
              "      <td>0</td>\n",
              "    </tr>\n",
              "    <tr>\n",
              "      <th>3</th>\n",
              "      <td>0</td>\n",
              "      <td>0</td>\n",
              "      <td>0</td>\n",
              "      <td>0</td>\n",
              "      <td>0</td>\n",
              "      <td>0</td>\n",
              "      <td>0</td>\n",
              "      <td>1</td>\n",
              "      <td>0</td>\n",
              "      <td>0</td>\n",
              "      <td>0</td>\n",
              "      <td>0</td>\n",
              "      <td>0</td>\n",
              "    </tr>\n",
              "    <tr>\n",
              "      <th>4</th>\n",
              "      <td>0</td>\n",
              "      <td>0</td>\n",
              "      <td>0</td>\n",
              "      <td>0</td>\n",
              "      <td>0</td>\n",
              "      <td>0</td>\n",
              "      <td>0</td>\n",
              "      <td>1</td>\n",
              "      <td>0</td>\n",
              "      <td>0</td>\n",
              "      <td>0</td>\n",
              "      <td>0</td>\n",
              "      <td>0</td>\n",
              "    </tr>\n",
              "  </tbody>\n",
              "</table>\n",
              "</div>"
            ],
            "text/plain": [
              "   ['Label']_0.0  ['Label']_1.0  ...  ['Label']_11.0  ['Label']_12.0\n",
              "0              0              0  ...               0               0\n",
              "1              0              0  ...               0               0\n",
              "2              0              0  ...               0               0\n",
              "3              0              0  ...               0               0\n",
              "4              0              0  ...               0               0\n",
              "\n",
              "[5 rows x 13 columns]"
            ]
          },
          "metadata": {
            "tags": []
          },
          "execution_count": 12
        }
      ]
    },
    {
      "cell_type": "code",
      "metadata": {
        "id": "WB5lFK4Qm-YD"
      },
      "source": [
        "from sklearn.model_selection import train_test_split\n",
        "X_train, X_test, y_train, y_test = train_test_split(normalized_df, y, test_size=0.25, random_state=0)\n",
        "y_train = np.array(y_train)"
      ],
      "execution_count": 13,
      "outputs": []
    },
    {
      "cell_type": "code",
      "metadata": {
        "id": "bOsq0-HjnDuo"
      },
      "source": [
        "y_train = np.array(y_train)\n",
        "y_test = np.array(y_test)\n",
        "X_train = np.array(X_train)\n",
        "X_test = np.array(X_test)\n",
        "X_train = np.reshape(X_train, (X_train.shape[0],X_train.shape[1],1))\n",
        "X_test = np.reshape(X_test, (X_test.shape[0],X_test.shape[1],1))"
      ],
      "execution_count": 38,
      "outputs": []
    },
    {
      "cell_type": "code",
      "metadata": {
        "colab": {
          "base_uri": "https://localhost:8080/"
        },
        "id": "jBEqv9p4p_et",
        "outputId": "29708581-5fd1-432c-a5ed-7cb3586363d7"
      },
      "source": [
        "print('xtrain={}, ytrain={}, xtest={}, ytest={}'.format(X_train.shape,y_train.shape,X_test.shape,y_test.shape))"
      ],
      "execution_count": 39,
      "outputs": [
        {
          "output_type": "stream",
          "text": [
            "xtrain=(798555, 38, 1), ytrain=(798555, 13), xtest=(266185, 38, 1), ytest=(266185, 13)\n"
          ],
          "name": "stdout"
        }
      ]
    },
    {
      "cell_type": "code",
      "metadata": {
        "id": "wvS1F-FNqBt6"
      },
      "source": [
        "from keras import optimizers\n",
        "sgd = optimizers.SGD(lr=0.009, decay=1e-6, momentum=0.9, nesterov=True)"
      ],
      "execution_count": 40,
      "outputs": []
    },
    {
      "cell_type": "code",
      "metadata": {
        "id": "rHo6H3Z1qDyD"
      },
      "source": [
        "model = Sequential()\n",
        "model.add(Convolution1D(64, 3, activation=\"sigmoid\", input_shape=(38,1)))\n",
        "model.add(Convolution1D(32, 3, activation=\"sigmoid\"))\n",
        "#model.add(MaxPooling1D(pool_size=2))\n",
        "#model.add(Convolution1D(128, 3, activation=\"relu\"))\n",
        "#model.add(Convolution1D(128, 3, activation=\"relu\"))\n",
        "model.add(MaxPooling1D(pool_size=2))\n",
        "model.add(Dropout(rate=0.3))\n",
        "model.add(Flatten())\n",
        "#model.add(Dense(30, activation=\"softmax\"))\n",
        "#model.add(Dense(10, activation=\"softmax\"))\n",
        "model.add(Dense(13))\n"
      ],
      "execution_count": 31,
      "outputs": []
    },
    {
      "cell_type": "code",
      "metadata": {
        "id": "6hSuUS125Dn0"
      },
      "source": [
        ""
      ],
      "execution_count": null,
      "outputs": []
    },
    {
      "cell_type": "code",
      "metadata": {
        "colab": {
          "base_uri": "https://localhost:8080/"
        },
        "id": "w-v6o9HRqF6U",
        "outputId": "52a84956-07db-416e-a6ca-5c6e6c22cb8d"
      },
      "source": [
        "model.compile(loss=\"mean_absolute_error\", optimizer=\"SGD\", metrics=['accuracy'])\n",
        "\n",
        "model.fit(X_train, y_train, epochs=1, batch_size=100, validation_data=(X_test, y_test))"
      ],
      "execution_count": 32,
      "outputs": [
        {
          "output_type": "stream",
          "text": [
            "79856/79856 [==============================] - 296s 4ms/step - loss: 0.0991 - accuracy: 0.0793 - val_loss: 0.0772 - val_accuracy: 0.0858\n"
          ],
          "name": "stdout"
        },
        {
          "output_type": "execute_result",
          "data": {
            "text/plain": [
              "<tensorflow.python.keras.callbacks.History at 0x7fabe9544550>"
            ]
          },
          "metadata": {
            "tags": []
          },
          "execution_count": 32
        }
      ]
    },
    {
      "cell_type": "code",
      "metadata": {
        "colab": {
          "base_uri": "https://localhost:8080/"
        },
        "id": "wDXSOHuTqNIe",
        "outputId": "c139ecb9-3122-4c17-8c8d-23a5a0b8d6c2"
      },
      "source": [
        "model.compile(loss=\"binary_crossentropy\", optimizer=\"adam\", metrics=['accuracy'])\n",
        "\n",
        "model.fit(X_train, y_train, epochs=1, batch_size=10, validation_data=(X_test, y_test))"
      ],
      "execution_count": 30,
      "outputs": [
        {
          "output_type": "stream",
          "text": [
            "79856/79856 [==============================] - 331s 4ms/step - loss: 0.7776 - accuracy: 0.0910 - val_loss: 0.7763 - val_accuracy: 0.0924\n"
          ],
          "name": "stdout"
        },
        {
          "output_type": "execute_result",
          "data": {
            "text/plain": [
              "<tensorflow.python.keras.callbacks.History at 0x7fabec52ca10>"
            ]
          },
          "metadata": {
            "tags": []
          },
          "execution_count": 30
        }
      ]
    },
    {
      "cell_type": "code",
      "metadata": {
        "id": "gAeq7mScx6DQ"
      },
      "source": [
        "model2 = Sequential()\n",
        "model2.add(Convolution1D(64, 3, activation=\"relu\", input_shape=(38,1)))\n",
        "model2.add(Convolution1D(32, 3, activation=\"relu\"))\n",
        "#model2.add(MaxPooling1D(pool_size=2))\n",
        "#model2.add(Convolution1D(128, 3, activation=\"relu\"))\n",
        "#model2.add(Convolution1D(128, 3, activation=\"relu\"))\n",
        "model2.add(MaxPooling1D(pool_size=2))\n",
        "#model2.add(Dropout(rate=0.3))\n",
        "model2.add(Flatten())\n",
        "#model2.add(Dense(30, activation=\"softmax\"))\n",
        "#model2.add(Dense(10, activation=\"softmax\"))\n",
        "model2.add(Dense(13))"
      ],
      "execution_count": 53,
      "outputs": []
    },
    {
      "cell_type": "code",
      "metadata": {
        "colab": {
          "base_uri": "https://localhost:8080/"
        },
        "id": "0b2l1knQ2GDZ",
        "outputId": "7f536486-642c-41fa-fc8f-257613db647f"
      },
      "source": [
        "model.compile(loss=\"mean_absolute_error\", optimizer=\"SGD\", metrics=['accuracy'])\n",
        "\n",
        "model.fit(X_train, y_train, epochs=10, batch_size=10, validation_data=(X_test, y_test))\n"
      ],
      "execution_count": 54,
      "outputs": [
        {
          "output_type": "stream",
          "text": [
            "Epoch 1/10\n",
            "79856/79856 [==============================] - 290s 4ms/step - loss: 0.0774 - accuracy: 0.0796 - val_loss: 0.0772 - val_accuracy: 0.0920\n",
            "Epoch 2/10\n",
            "79856/79856 [==============================] - 272s 3ms/step - loss: 0.0772 - accuracy: 0.0785 - val_loss: 0.0772 - val_accuracy: 0.0852\n",
            "Epoch 3/10\n",
            "79856/79856 [==============================] - 272s 3ms/step - loss: 0.0772 - accuracy: 0.0780 - val_loss: 0.0771 - val_accuracy: 0.0819\n",
            "Epoch 4/10\n",
            "79856/79856 [==============================] - 272s 3ms/step - loss: 0.0772 - accuracy: 0.0769 - val_loss: 0.0772 - val_accuracy: 0.0926\n",
            "Epoch 5/10\n",
            "79856/79856 [==============================] - 273s 3ms/step - loss: 0.0772 - accuracy: 0.0769 - val_loss: 0.0772 - val_accuracy: 0.0920\n",
            "Epoch 6/10\n",
            "79856/79856 [==============================] - 272s 3ms/step - loss: 0.0772 - accuracy: 0.0777 - val_loss: 0.0772 - val_accuracy: 0.0885\n",
            "Epoch 7/10\n",
            "79856/79856 [==============================] - 270s 3ms/step - loss: 0.0772 - accuracy: 0.0781 - val_loss: 0.0772 - val_accuracy: 0.0920\n",
            "Epoch 8/10\n",
            "79856/79856 [==============================] - 275s 3ms/step - loss: 0.0772 - accuracy: 0.0784 - val_loss: 0.0773 - val_accuracy: 0.0912\n",
            "Epoch 9/10\n",
            "79856/79856 [==============================] - 276s 3ms/step - loss: 0.0772 - accuracy: 0.0789 - val_loss: 0.0772 - val_accuracy: 0.0920\n",
            "Epoch 10/10\n",
            "79856/79856 [==============================] - 278s 3ms/step - loss: 0.0772 - accuracy: 0.0792 - val_loss: 0.0772 - val_accuracy: 0.0924\n"
          ],
          "name": "stdout"
        },
        {
          "output_type": "execute_result",
          "data": {
            "text/plain": [
              "<tensorflow.python.keras.callbacks.History at 0x7fabd81a5e50>"
            ]
          },
          "metadata": {
            "tags": []
          },
          "execution_count": 54
        }
      ]
    },
    {
      "cell_type": "code",
      "metadata": {
        "id": "EIc-BWb13H4p"
      },
      "source": [
        ""
      ],
      "execution_count": null,
      "outputs": []
    }
  ]
}